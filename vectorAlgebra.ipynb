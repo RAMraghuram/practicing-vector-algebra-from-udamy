{
  "nbformat": 4,
  "nbformat_minor": 0,
  "metadata": {
    "colab": {
      "name": "vectorAlgebra.ipynb",
      "provenance": [],
      "include_colab_link": true
    },
    "kernelspec": {
      "name": "python3",
      "display_name": "Python 3"
    }
  },
  "cells": [
    {
      "cell_type": "markdown",
      "metadata": {
        "id": "view-in-github",
        "colab_type": "text"
      },
      "source": [
        "<a href=\"https://colab.research.google.com/github/RAMraghuram/practicing-vector-algebra-from-udamy/blob/master/vectorAlgebra.ipynb\" target=\"_parent\"><img src=\"https://colab.research.google.com/assets/colab-badge.svg\" alt=\"Open In Colab\"/></a>"
      ]
    },
    {
      "cell_type": "code",
      "metadata": {
        "id": "f4uor8KrZVS_",
        "colab_type": "code",
        "colab": {}
      },
      "source": [
        "# Author Raghuramreddy\n",
        "# This is a practice notebook of udemy nanodegree practice course\n",
        "# reference to this file code is https://github.com/udacity/AIPND/blob/master/linearalgebra-vectors_lab/vectors_lab.ipynb"
      ],
      "execution_count": 0,
      "outputs": []
    },
    {
      "cell_type": "code",
      "metadata": {
        "id": "pWscBJatSujg",
        "colab_type": "code",
        "colab": {
          "base_uri": "https://localhost:8080/",
          "height": 269
        },
        "outputId": "d5f7b529-5e09-44fc-e88e-fe26c164ae77"
      },
      "source": [
        "# Vector initialization and visualization\n",
        "\n",
        "# import numpy and pyplot \n",
        "%matplotlib inline\n",
        "import numpy as np\n",
        "import matplotlib.pyplot as plt\n",
        "# defininig a vector v\n",
        "v =  np.array([1,1])\n",
        "# Plot vector v as blue arrow with red dot at origin (0,0) using matplotlib \n",
        "# creates axes of plot referenced 'ax'\n",
        "ax = plt.axes()\n",
        "\n",
        "# Plots red dot at origin\n",
        "ax.plot(0,0,'or')\n",
        "\n",
        "# Plots vector v as blue arrow starting at origin 0,0\n",
        "\n",
        "ax.arrow(0,0,*v, color='b', linewidth=2.0, head_width=0.20, head_length=0.25)\n",
        "\n",
        "# Sets limits for plot for x-axis\n",
        "plt.xlim(-2,2)\n",
        "\n",
        "# Set major ticks for x-axis\n",
        "major_xticks = np.arange(-2,3)\n",
        "ax.set_xticks(major_xticks)\n",
        "\n",
        "# Set limits for plot for y-axis\n",
        "plt.ylim(-1,2)\n",
        "\n",
        "# Set major ticks for y-axis\n",
        "major_yticks = np.arange(-1,3)\n",
        "ax.set_yticks(major_yticks)\n",
        "\n",
        "# Create gridlines for only major ticks marks\n",
        "plt.grid(b=True, which='major')\n",
        "\n",
        "#Display final plot \n",
        "plt.show()"
      ],
      "execution_count": 36,
      "outputs": [
        {
          "output_type": "display_data",
          "data": {
            "image/png": "[encoded data removed]",
            "text/plain": [
              "<Figure size 432x288 with 1 Axes>"
            ]
          },
          "metadata": {
            "tags": []
          }
        }
      ]
    },
    {
      "cell_type": "code",
      "metadata": {
        "id": "ytctXoSsVq6t",
        "colab_type": "code",
        "colab": {
          "base_uri": "https://localhost:8080/",
          "height": 269
        },
        "outputId": "a36ecee0-4b56-4b11-fdc0-7118dfc761b0"
      },
      "source": [
        "# Scaling a vector using a scalar\n",
        "\n",
        "# Define the vector v\n",
        "v = np.array([1,1])\n",
        "\n",
        "# Define a scalar a\n",
        "a = 3\n",
        "\n",
        "# Define vector av - as vector v multiplied by scalar a\n",
        "av = a * v\n",
        "\n",
        "# Plots vector v as cyan dotted arrow with red dot at origin (0,0) using matplotlib\n",
        "\n",
        "# Creates axes of plot referenced 'ax'\n",
        "ax = plt.axes()\n",
        "\n",
        "# Create red dot at origin\n",
        "ax.plot(0,0,'or')\n",
        "\n",
        "#origin arrow\n",
        "ax.arrow(0,0,*v, color='b', linewidth=2.0, head_width=0.20, head_length=0.25)\n",
        "\n",
        "#extended arrow by scalar multiplication\n",
        "# Plot vector av as cyan arrow strating at oringin\n",
        "ax.arrow(0,0, *av, color='c', linestyle='dotted' ,linewidth=2.5, head_width=0.30, head_length=0.35)\n",
        "\n",
        "# Sets limit for plot for x-axis\n",
        "plt.xlim(-1,4)\n",
        "\n",
        "# Set majorticks for x-axis\n",
        "major_xticks = np.arange(-1,5)\n",
        "ax.set_xticks(major_xticks)\n",
        "\n",
        "# Set limit for plot for y-axis\n",
        "plt.ylim(-1,4)\n",
        "\n",
        "# Set major ticks for y-axis\n",
        "major_yticks = np.arange(-1,5)\n",
        "ax.set_yticks(major_yticks)\n",
        "\n",
        "# Create grid for only major tick marks\n",
        "plt.grid(b=True, which='major')\n",
        "\n",
        "# Displayfinal plot \n",
        "plt.show()"
      ],
      "execution_count": 45,
      "outputs": [
        {
          "output_type": "display_data",
          "data": {
            "image/png": "[encoded data removed]",
            "text/plain": [
              "<Figure size 432x288 with 1 Axes>"
            ]
          },
          "metadata": {
            "tags": []
          }
        }
      ]
    },
    {
      "cell_type": "code",
      "metadata": {
        "id": "TaEYc_ywVzZm",
        "colab_type": "code",
        "colab": {
          "base_uri": "https://localhost:8080/",
          "height": 269
        },
        "outputId": "750dcc5c-a4f5-4244-a5cc-2c3d1d0319a9"
      },
      "source": [
        "# Displaying two vectors in same graph\n",
        "\n",
        "# Define vector v\n",
        "v = np.array([1,1])\n",
        "\n",
        "# Define vector w\n",
        "w = np.array([-2,2])\n",
        "\n",
        "# Plots vector v(blue arrow) and vetor w(cyan arrow) with red dot at origin\n",
        "\n",
        "# Creates axes of plot referenced ax\n",
        "ax = plt.axes()\n",
        "\n",
        "# Plot red dot at the origin\n",
        "ax.plot(0,0,'or')\n",
        "\n",
        "# Plots vector v as blue arrow starting from origin\n",
        "ax.arrow(0,0, *v, color='b', linewidth=2.5, head_width=0.3, head_length=0.35)\n",
        "\n",
        "# Plots vector w as cyan arrow strating form origin\n",
        "ax.arrow(0,0, *w, color='c', linewidth=2.5, head_width=0.3, head_length=0.35)\n",
        "\n",
        "# Set limits for plot x-axis\n",
        "plt.xlim=(-3,2)\n",
        "\n",
        "# Set major ticks for x-axis\n",
        "major_xticks = np.arange(-3,3)\n",
        "ax.set_xticks(major_xticks)\n",
        "\n",
        "# Set limits for plot y-axis\n",
        "plt.ylim=(-1,4)\n",
        "\n",
        "# Set major ticks for y-axis\n",
        "major_yticks = np.arange(-1,5)\n",
        "ax.set_yticks(major_yticks)\n",
        "\n",
        "# Create gridlines for only major tick marks\n",
        "plt.grid(b=True, which='major')\n",
        "\n",
        "# Display final plot\n",
        "plt.show()"
      ],
      "execution_count": 56,
      "outputs": [
        {
          "output_type": "display_data",
          "data": {
            "image/png": "[encoded data removed]",
            "text/plain": [
              "<Figure size 432x288 with 1 Axes>"
            ]
          },
          "metadata": {
            "tags": []
          }
        }
      ]
    },
    {
      "cell_type": "code",
      "metadata": {
        "id": "hyQb2eq1cC7G",
        "colab_type": "code",
        "colab": {}
      },
      "source": [
        "# Adding two vectors \n",
        "\n",
        "# Define vector v\n",
        "v = np.array([1,1])\n",
        "\n",
        "# Define vector w\n",
        "w = np.array([-2,2])\n",
        "\n",
        "# Plot that graphically shows vector w()"
      ],
      "execution_count": 0,
      "outputs": []
    }
  ]
}